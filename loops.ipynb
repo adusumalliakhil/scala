{
 "cells": [
  {
   "cell_type": "code",
   "execution_count": 1,
   "metadata": {},
   "outputs": [
    {
     "data": {
      "text/plain": [
       "Intitializing Scala interpreter ..."
      ]
     },
     "metadata": {},
     "output_type": "display_data"
    },
    {
     "data": {
      "text/plain": [
       "Spark Web UI available at http://akhil-PC:4045\n",
       "SparkContext available as 'sc' (version = 2.4.0, master = local[*], app id = local-1547811261143)\n",
       "SparkSession available as 'spark'\n"
      ]
     },
     "metadata": {},
     "output_type": "display_data"
    }
   ],
   "source": [
    "// this are looping concepts replace <- in plce of in in for loop in python"
   ]
  },
  {
   "cell_type": "code",
   "execution_count": 3,
   "metadata": {},
   "outputs": [
    {
     "name": "stdout",
     "output_type": "stream",
     "text": [
      "Hari is a balck teddy bear\n",
      "Sandeep short and handsome\n",
      "Vishnu is a fun maker\n",
      "***** four idoits  *****\n"
     ]
    },
    {
     "data": {
      "text/plain": [
       "friends: List[String] = List(Hari, Sandeep, Vishnu, Akhil)\n"
      ]
     },
     "execution_count": 3,
     "metadata": {},
     "output_type": "execute_result"
    }
   ],
   "source": [
    "val friends = List(\"Hari\", \"Sandeep\",\"Vishnu\",\"Akhil\")\n",
    "for(name <- friends)\n",
    "{\n",
    "    if(name.startsWith(\"H\"))\n",
    "    {\n",
    "        println(s\"$name is a balck teddy bear\" )\n",
    "    }\n",
    "    else if(name.endsWith(\"p\"))\n",
    "    {\n",
    "        println(s\"$name short and handsome\")\n",
    "    }\n",
    "    else if(name.startsWith(\"V\") && name.endsWith(\"u\"))\n",
    "    {\n",
    "        println(s\"$name is a fun maker\")\n",
    "    }\n",
    "    else\n",
    "    {\n",
    "        println(\"*\"*5+\" four idoits  \"+\"*\"*5)\n",
    "    }\n",
    "}"
   ]
  },
  {
   "cell_type": "code",
   "execution_count": 6,
   "metadata": {},
   "outputs": [
    {
     "name": "stdout",
     "output_type": "stream",
     "text": [
      "x is now 0\n",
      "x is now 1\n",
      "x is now 2\n",
      "x is now 3\n",
      "x is now 4\n"
     ]
    },
    {
     "data": {
      "text/plain": [
       "x: Int = 5\n"
      ]
     },
     "execution_count": 6,
     "metadata": {},
     "output_type": "execute_result"
    }
   ],
   "source": [
    "var x =0\n",
    "while(x <5){\n",
    "    println(s\"x is now $x\")\n",
    "    x = x+1\n",
    "}"
   ]
  },
  {
   "cell_type": "code",
   "execution_count": 33,
   "metadata": {},
   "outputs": [
    {
     "ename": "<console>",
     "evalue": "3: error: identifier expected but 'var' found.\r",
     "output_type": "error",
     "traceback": [
      "<console>:3: error: identifier expected but 'var' found.\r",
      "var y=0\r",
      "^",
      ""
     ]
    }
   ],
   "source": [
    "import util.control.Breaks.\n",
    "var y=0\n",
    "while(y<5){\n",
    "    println(s\"y is now $y\")\n",
    "    if(y==3) \n",
    "    {\n",
    "        break\n",
    "    }\n",
    "    y = y+1\n",
    "}"
   ]
  },
  {
   "cell_type": "code",
   "execution_count": null,
   "metadata": {},
   "outputs": [],
   "source": []
  }
 ],
 "metadata": {
  "kernelspec": {
   "display_name": "spylon-kernel",
   "language": "scala",
   "name": "spylon-kernel"
  },
  "language_info": {
   "codemirror_mode": "text/x-scala",
   "file_extension": ".scala",
   "help_links": [
    {
     "text": "MetaKernel Magics",
     "url": "https://github.com/calysto/metakernel/blob/master/metakernel/magics/README.md"
    }
   ],
   "mimetype": "text/x-scala",
   "name": "scala",
   "pygments_lexer": "scala",
   "version": "0.4.1"
  }
 },
 "nbformat": 4,
 "nbformat_minor": 2
}
