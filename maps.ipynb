{
 "cells": [
  {
   "cell_type": "code",
   "execution_count": 2,
   "metadata": {},
   "outputs": [],
   "source": [
    "/* map like in python dictionaries non thing but collection of key-value pair */"
   ]
  },
  {
   "cell_type": "code",
   "execution_count": 3,
   "metadata": {},
   "outputs": [
    {
     "data": {
      "text/plain": [
       "mymap: scala.collection.immutable.Map[String,Int] = Map(a -> 1, b -> 2, c -> 3)\n"
      ]
     },
     "execution_count": 3,
     "metadata": {},
     "output_type": "execute_result"
    }
   ],
   "source": [
    "var mymap = Map((\"a\",1),(\"b\",2),(\"c\",3))"
   ]
  },
  {
   "cell_type": "code",
   "execution_count": 4,
   "metadata": {},
   "outputs": [
    {
     "data": {
      "text/plain": [
       "res1: Int = 1\n"
      ]
     },
     "execution_count": 4,
     "metadata": {},
     "output_type": "execute_result"
    }
   ],
   "source": [
    "//while calling we should call the value with the help of keys\n",
    "mymap(\"a\")"
   ]
  },
  {
   "cell_type": "code",
   "execution_count": 5,
   "metadata": {},
   "outputs": [],
   "source": [
    "//key are unique but values can be same"
   ]
  },
  {
   "cell_type": "code",
   "execution_count": 6,
   "metadata": {},
   "outputs": [
    {
     "data": {
      "text/plain": [
       "mymap: scala.collection.immutable.Map[String,Int] = Map(a -> 1, b -> 2, c -> 1)\n"
      ]
     },
     "execution_count": 6,
     "metadata": {},
     "output_type": "execute_result"
    }
   ],
   "source": [
    "var mymap = Map((\"a\",1),(\"b\",2),(\"c\",1))"
   ]
  },
  {
   "cell_type": "code",
   "execution_count": 7,
   "metadata": {},
   "outputs": [
    {
     "data": {
      "text/plain": [
       "mymap: scala.collection.immutable.Map[String,Int] = Map(a -> 3, b -> 2)\n"
      ]
     },
     "execution_count": 7,
     "metadata": {},
     "output_type": "execute_result"
    }
   ],
   "source": [
    "var mymap = Map((\"a\",1),(\"b\",2),(\"a\",3))"
   ]
  },
  {
   "cell_type": "code",
   "execution_count": 8,
   "metadata": {},
   "outputs": [
    {
     "ename": "<console>",
     "evalue": "24: error: type mismatch;\r",
     "output_type": "error",
     "traceback": [
      "<console>:24: error: type mismatch;\r",
      " found   : (String, Int, Int, Int)\r",
      " required: (?, ?)\r",
      "       var mymap = Map((\"a\",1),(\"b\",2),(\"c\",3,2,4))\r",
      "                                       ^",
      ""
     ]
    }
   ],
   "source": [
    "var mymap = Map((\"a\",1),(\"b\",2),(\"c\",3,2,4))"
   ]
  },
  {
   "cell_type": "code",
   "execution_count": 9,
   "metadata": {},
   "outputs": [
    {
     "data": {
      "text/plain": [
       "mymap: scala.collection.immutable.Map[String,Any] = Map(a -> 1, b -> 2, c -> List(1, 6, 3, 3, 2))\n"
      ]
     },
     "execution_count": 9,
     "metadata": {},
     "output_type": "execute_result"
    }
   ],
   "source": [
    "//to give a set of value we should send in list\n",
    "var mymap = Map((\"a\",1),(\"b\",2),(\"c\",List(1,6,3,3,2)))"
   ]
  },
  {
   "cell_type": "code",
   "execution_count": 10,
   "metadata": {},
   "outputs": [
    {
     "data": {
      "text/plain": [
       "mymap: scala.collection.immutable.Map[String,Any] = Map(a -> 1, b -> 2, c -> Set(1, 6, 3, 2))\n"
      ]
     },
     "execution_count": 10,
     "metadata": {},
     "output_type": "execute_result"
    }
   ],
   "source": [
    "// even we can use set in place of list\n",
    "var mymap = Map((\"a\",1),(\"b\",2),(\"c\",Set(1,6,3,3,2)))"
   ]
  },
  {
   "cell_type": "code",
   "execution_count": 11,
   "metadata": {},
   "outputs": [
    {
     "data": {
      "text/plain": [
       "mymutmap: scala.collection.immutable.Map[Int,AnyVal] = Map(1 -> 567, 2 -> 3.5, 3 -> 98.67)\n"
      ]
     },
     "execution_count": 11,
     "metadata": {},
     "output_type": "execute_result"
    }
   ],
   "source": [
    "//map are also mutable and immutable\n",
    "val mymutmap = collection.immutable.Map((1,567),(2,3.5),(3,98.67))"
   ]
  },
  {
   "cell_type": "code",
   "execution_count": 12,
   "metadata": {},
   "outputs": [
    {
     "ename": "<console>",
     "evalue": "28: error: value add is not a member of scala.collection.immutable.Map[Int,AnyVal]\r",
     "output_type": "error",
     "traceback": [
      "<console>:28: error: value add is not a member of scala.collection.immutable.Map[Int,AnyVal]\r",
      "       mymutmap.add(6 -> \"new\")\r",
      "                ^",
      ""
     ]
    }
   ],
   "source": [
    "mymutmap.add(6 -> \"new\")"
   ]
  },
  {
   "cell_type": "code",
   "execution_count": 13,
   "metadata": {},
   "outputs": [
    {
     "data": {
      "text/plain": [
       "res4: scala.collection.immutable.Map[Int,Any] = Map(1 -> 567, 2 -> 3.5, 3 -> 98.67, 6 -> new)\n"
      ]
     },
     "execution_count": 13,
     "metadata": {},
     "output_type": "execute_result"
    }
   ],
   "source": [
    "mymutmap.+(6 -> \"new\")"
   ]
  },
  {
   "cell_type": "code",
   "execution_count": 14,
   "metadata": {},
   "outputs": [],
   "source": [
    "//  press tab after mymutmap.  u can get different function we can use"
   ]
  },
  {
   "cell_type": "code",
   "execution_count": 15,
   "metadata": {},
   "outputs": [
    {
     "data": {
      "text/plain": [
       "res6: scala.collection.immutable.Map[Int,Any] = Map(1 -> 567, 2 -> 3.5, 3 -> 98.67, 6 -> new23)\n"
      ]
     },
     "execution_count": 15,
     "metadata": {},
     "output_type": "execute_result"
    }
   ],
   "source": [
    "mymutmap.+(6 -> \"new23\")"
   ]
  },
  {
   "cell_type": "code",
   "execution_count": 16,
   "metadata": {},
   "outputs": [
    {
     "data": {
      "text/plain": [
       "res7: Iterable[String] = Set(a, b, c)\n"
      ]
     },
     "execution_count": 16,
     "metadata": {},
     "output_type": "execute_result"
    }
   ],
   "source": [
    "// to get the keys \n",
    "mymap.keys"
   ]
  },
  {
   "cell_type": "code",
   "execution_count": 17,
   "metadata": {},
   "outputs": [
    {
     "data": {
      "text/plain": [
       "res8: Iterable[Any] = MapLike(1, 2, Set(1, 6, 3, 2))\n"
      ]
     },
     "execution_count": 17,
     "metadata": {},
     "output_type": "execute_result"
    }
   ],
   "source": [
    "mymap.values"
   ]
  },
  {
   "cell_type": "code",
   "execution_count": null,
   "metadata": {},
   "outputs": [],
   "source": []
  }
 ],
 "metadata": {
  "kernelspec": {
   "display_name": "spylon-kernel",
   "language": "scala",
   "name": "spylon-kernel"
  },
  "language_info": {
   "codemirror_mode": "text/x-scala",
   "file_extension": ".scala",
   "help_links": [
    {
     "text": "MetaKernel Magics",
     "url": "https://github.com/calysto/metakernel/blob/master/metakernel/magics/README.md"
    }
   ],
   "mimetype": "text/x-scala",
   "name": "scala",
   "pygments_lexer": "scala",
   "version": "0.4.1"
  }
 },
 "nbformat": 4,
 "nbformat_minor": 2
}
