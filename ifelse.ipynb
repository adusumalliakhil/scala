{
 "cells": [
  {
   "cell_type": "code",
   "execution_count": 1,
   "metadata": {},
   "outputs": [
    {
     "data": {
      "text/plain": [
       "Intitializing Scala interpreter ..."
      ]
     },
     "metadata": {},
     "output_type": "display_data"
    },
    {
     "data": {
      "text/plain": [
       "Spark Web UI available at http://akhil-PC:4044\n",
       "SparkContext available as 'sc' (version = 2.4.0, master = local[*], app id = local-1547809780512)\n",
       "SparkSession available as 'spark'\n"
      ]
     },
     "metadata": {},
     "output_type": "display_data"
    }
   ],
   "source": [
    "// in this we are going to learn the if-else "
   ]
  },
  {
   "cell_type": "code",
   "execution_count": 2,
   "metadata": {},
   "outputs": [
    {
     "name": "stdout",
     "output_type": "stream",
     "text": [
      "entered into if condition"
     ]
    }
   ],
   "source": [
    "//if means codition is true then execute\n",
    "if (4>2){\n",
    "    print(\"entered into if condition\")\n",
    "}"
   ]
  },
  {
   "cell_type": "code",
   "execution_count": 4,
   "metadata": {},
   "outputs": [
    {
     "name": "stdout",
     "output_type": "stream",
     "text": [
      "condition is false\n"
     ]
    }
   ],
   "source": [
    "if (1>2){\n",
    "    print(\"entered into if condition\")\n",
    "}\n",
    "else\n",
    "    println(\"condition is false\")"
   ]
  },
  {
   "cell_type": "code",
   "execution_count": 6,
   "metadata": {},
   "outputs": [
    {
     "name": "stdout",
     "output_type": "stream",
     "text": [
      "word starts with n\n"
     ]
    },
    {
     "data": {
      "text/plain": [
       "a: String = newcar\n"
      ]
     },
     "execution_count": 6,
     "metadata": {},
     "output_type": "execute_result"
    }
   ],
   "source": [
    "val a=\"newcar\"\n",
    "if(a.startsWith(\"n\"))\n",
    "{\n",
    "    println(\"word starts with n\")\n",
    "}\n",
    "else \n",
    "    println(\"word not starts with n\")"
   ]
  },
  {
   "cell_type": "code",
   "execution_count": 8,
   "metadata": {},
   "outputs": [
    {
     "name": "stdout",
     "output_type": "stream",
     "text": [
      "word not start with n and not ends with r\n"
     ]
    },
    {
     "data": {
      "text/plain": [
       "a: String = cricket\n"
      ]
     },
     "execution_count": 8,
     "metadata": {},
     "output_type": "execute_result"
    }
   ],
   "source": [
    "val a=\"cricket\"\n",
    "if(a.startsWith(\"n\"))\n",
    "{\n",
    "    println(\"word starts with n\")\n",
    "}\n",
    "else if(a.endsWith(\"r\"))\n",
    "    println(\"word ends with r\")\n",
    "else\n",
    "    println(\"word not start with n and not ends with r\")"
   ]
  },
  {
   "cell_type": "code",
   "execution_count": 9,
   "metadata": {},
   "outputs": [
    {
     "name": "stdout",
     "output_type": "stream",
     "text": [
      "word not found\n"
     ]
    },
    {
     "data": {
      "text/plain": [
       "a: String = newcars\n"
      ]
     },
     "execution_count": 9,
     "metadata": {},
     "output_type": "execute_result"
    }
   ],
   "source": [
    "// at first condition using &&\n",
    "val a=\"newcars\"\n",
    "if(a.startsWith(\"n\") && a.endsWith(\"r\"))\n",
    "{\n",
    "    println(\"word is correct\")\n",
    "}\n",
    "else \n",
    "println(\"word not found\")"
   ]
  },
  {
   "cell_type": "code",
   "execution_count": 10,
   "metadata": {},
   "outputs": [
    {
     "name": "stdout",
     "output_type": "stream",
     "text": [
      "word is correct\n"
     ]
    },
    {
     "data": {
      "text/plain": [
       "a: String = newcars\n"
      ]
     },
     "execution_count": 10,
     "metadata": {},
     "output_type": "execute_result"
    }
   ],
   "source": [
    "// at first condition using ||\n",
    "val a=\"newcars\"\n",
    "if(a.startsWith(\"n\") || a.endsWith(\"r\"))\n",
    "{\n",
    "    println(\"word is correct\")\n",
    "}\n",
    "else \n",
    "println(\"word not found\")"
   ]
  },
  {
   "cell_type": "code",
   "execution_count": null,
   "metadata": {},
   "outputs": [],
   "source": []
  }
 ],
 "metadata": {
  "kernelspec": {
   "display_name": "spylon-kernel",
   "language": "scala",
   "name": "spylon-kernel"
  },
  "language_info": {
   "codemirror_mode": "text/x-scala",
   "file_extension": ".scala",
   "help_links": [
    {
     "text": "MetaKernel Magics",
     "url": "https://github.com/calysto/metakernel/blob/master/metakernel/magics/README.md"
    }
   ],
   "mimetype": "text/x-scala",
   "name": "scala",
   "pygments_lexer": "scala",
   "version": "0.4.1"
  }
 },
 "nbformat": 4,
 "nbformat_minor": 2
}
