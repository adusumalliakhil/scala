{
 "cells": [
  {
   "cell_type": "code",
   "execution_count": 1,
   "metadata": {},
   "outputs": [
    {
     "data": {
      "text/plain": [
       "Intitializing Scala interpreter ..."
      ]
     },
     "metadata": {},
     "output_type": "display_data"
    },
    {
     "data": {
      "text/plain": [
       "Spark Web UI available at http://akhil-PC:4041\n",
       "SparkContext available as 'sc' (version = 2.4.0, master = local[*], app id = local-1547806093475)\n",
       "SparkSession available as 'spark'\n"
      ]
     },
     "metadata": {},
     "output_type": "display_data"
    },
    {
     "name": "stdout",
     "output_type": "stream",
     "text": [
      "hello\n"
     ]
    }
   ],
   "source": [
    "println(\"hello\")"
   ]
  },
  {
   "cell_type": "code",
   "execution_count": 2,
   "metadata": {},
   "outputs": [
    {
     "ename": "<console>",
     "evalue": "2: error: unclosed character literal\r",
     "output_type": "error",
     "traceback": [
      "<console>:2: error: unclosed character literal\r",
      "println('hello')\r",
      "              ^",
      ""
     ]
    }
   ],
   "source": [
    "println('hello')"
   ]
  },
  {
   "cell_type": "code",
   "execution_count": 5,
   "metadata": {},
   "outputs": [
    {
     "ename": "<console>",
     "evalue": "2: error: unclosed character literal\r",
     "output_type": "error",
     "traceback": [
      "<console>:2: error: unclosed character literal\r",
      "'hello'\r",
      "      ^",
      ""
     ]
    }
   ],
   "source": [
    "'hello'"
   ]
  },
  {
   "cell_type": "code",
   "execution_count": 6,
   "metadata": {},
   "outputs": [],
   "source": [
    "//strings should be only in \" \" double quotes"
   ]
  },
  {
   "cell_type": "code",
   "execution_count": 7,
   "metadata": {},
   "outputs": [
    {
     "data": {
      "text/plain": [
       "res4: String = surname firstname lastname\n"
      ]
     },
     "execution_count": 7,
     "metadata": {},
     "output_type": "execute_result"
    }
   ],
   "source": [
    "// string concatination\n",
    "\"surname\"+\" \"+\"firstname\"+\" \"+\"lastname\""
   ]
  },
  {
   "cell_type": "code",
   "execution_count": 8,
   "metadata": {},
   "outputs": [
    {
     "data": {
      "text/plain": [
       "res5: String = *rockband**rockband**rockband**rockband**rockband*\n"
      ]
     },
     "execution_count": 8,
     "metadata": {},
     "output_type": "execute_result"
    }
   ],
   "source": [
    "//string multiplication\n",
    "\"*rockband*\" * 5"
   ]
  },
  {
   "cell_type": "code",
   "execution_count": 9,
   "metadata": {},
   "outputs": [
    {
     "data": {
      "text/plain": [
       "dog: String = tommy\n"
      ]
     },
     "execution_count": 9,
     "metadata": {},
     "output_type": "execute_result"
    }
   ],
   "source": [
    "//assign a val to string\n",
    "val dog = \"tommy\""
   ]
  },
  {
   "cell_type": "code",
   "execution_count": 10,
   "metadata": {},
   "outputs": [
    {
     "data": {
      "text/plain": [
       "res6: Int = 5\n"
      ]
     },
     "execution_count": 10,
     "metadata": {},
     "output_type": "execute_result"
    }
   ],
   "source": [
    "dog.length"
   ]
  },
  {
   "cell_type": "code",
   "execution_count": 11,
   "metadata": {},
   "outputs": [
    {
     "data": {
      "text/plain": [
       "hi_dog: String = great tommy\r\n",
       "hi_dog2: String = great tommy\n"
      ]
     },
     "execution_count": 11,
     "metadata": {},
     "output_type": "execute_result"
    }
   ],
   "source": [
    "//now i would like to assidn great tommy into other variable by using the pervious variable dog\n",
    "val hi_dog = s\"great $dog\"\n",
    "//or\n",
    "val hi_dog2 =f\"great $dog\""
   ]
  },
  {
   "cell_type": "code",
   "execution_count": 12,
   "metadata": {},
   "outputs": [
    {
     "name": "stdout",
     "output_type": "stream",
     "text": [
      "i like tommy, dog age is 15, a weight of 35.680"
     ]
    }
   ],
   "source": [
    "printf(\"i like %s, dog age is %d, a weight of %2.3f\",\"tommy\",15,35.67987)"
   ]
  },
  {
   "cell_type": "code",
   "execution_count": 13,
   "metadata": {},
   "outputs": [
    {
     "data": {
      "text/plain": [
       "cat: String = my dog hates the cats which are black in color\r\n",
       "res8: Char = o\n"
      ]
     },
     "execution_count": 13,
     "metadata": {},
     "output_type": "execute_result"
    }
   ],
   "source": [
    "//to access a character in the string we have inbulit functions\n",
    "val cat = \"my dog hates the cats which are black in color\"\n",
    "cat.charAt(4)"
   ]
  },
  {
   "cell_type": "code",
   "execution_count": 14,
   "metadata": {},
   "outputs": [
    {
     "ename": "java.lang.StringIndexOutOfBoundsException",
     "evalue": " String index out of range: -1\r",
     "output_type": "error",
     "traceback": [
      "java.lang.StringIndexOutOfBoundsException: String index out of range: -1\r",
      "  at java.lang.String.charAt(String.java:658)\r",
      "  ... 37 elided",
      ""
     ]
    }
   ],
   "source": [
    "//here indexing start from 0\n",
    "cat.charAt(-1)"
   ]
  },
  {
   "cell_type": "code",
   "execution_count": 15,
   "metadata": {},
   "outputs": [],
   "source": [
    "//-ve index is not posible like in java"
   ]
  },
  {
   "cell_type": "code",
   "execution_count": 16,
   "metadata": {},
   "outputs": [
    {
     "data": {
      "text/plain": [
       "rat: String = dog cat rat\r\n",
       "res11: Boolean = true\n"
      ]
     },
     "execution_count": 16,
     "metadata": {},
     "output_type": "execute_result"
    }
   ],
   "source": [
    "// matches and contains\n",
    "val rat = \"dog cat rat\"\n",
    "rat matches \"dog cat rat\"\n"
   ]
  },
  {
   "cell_type": "code",
   "execution_count": 17,
   "metadata": {},
   "outputs": [
    {
     "data": {
      "text/plain": [
       "res12: Boolean = true\n"
      ]
     },
     "execution_count": 17,
     "metadata": {},
     "output_type": "execute_result"
    }
   ],
   "source": [
    "\n",
    "rat contains \"dog\"\n"
   ]
  },
  {
   "cell_type": "code",
   "execution_count": 18,
   "metadata": {},
   "outputs": [
    {
     "data": {
      "text/plain": [
       "res13: Boolean = false\n"
      ]
     },
     "execution_count": 18,
     "metadata": {},
     "output_type": "execute_result"
    }
   ],
   "source": [
    "rat matches \"dog\""
   ]
  },
  {
   "cell_type": "code",
   "execution_count": 19,
   "metadata": {},
   "outputs": [
    {
     "name": "stdout",
     "output_type": "stream",
     "text": [
      "true\n",
      "true\n",
      "false\n",
      "false\n"
     ]
    }
   ],
   "source": [
    "//always use print to display the output\n",
    "println(rat matches \"dog cat rat\")\n",
    "println(rat contains \"dog\")\n",
    "println(rat matches \"dog\")\n",
    "println(rat contains \"ant\")"
   ]
  },
  {
   "cell_type": "code",
   "execution_count": 20,
   "metadata": {},
   "outputs": [
    {
     "data": {
      "text/plain": [
       "res15: (Int, Double, String, Boolean) = (1,2.2,dogs,true)\n"
      ]
     },
     "execution_count": 20,
     "metadata": {},
     "output_type": "execute_result"
    }
   ],
   "source": [
    "//tuple is the collection of datatypes\n",
    "(1,2.2,\"dogs\",true)"
   ]
  },
  {
   "cell_type": "code",
   "execution_count": 21,
   "metadata": {},
   "outputs": [
    {
     "name": "stdout",
     "output_type": "stream",
     "text": [
      "(97,23.4,(snakes,lions,(true,false)))"
     ]
    },
    {
     "data": {
      "text/plain": [
       "my_tuple: (Int, Double, (String, String, (Boolean, Boolean))) = (97,23.4,(snakes,lions,(true,false)))\n"
      ]
     },
     "execution_count": 21,
     "metadata": {},
     "output_type": "execute_result"
    }
   ],
   "source": [
    "val my_tuple = (97,23.4,(\"snakes\",\"lions\",(true,false)))\n",
    "print(my_tuple)\n"
   ]
  },
  {
   "cell_type": "code",
   "execution_count": 22,
   "metadata": {},
   "outputs": [
    {
     "data": {
      "text/plain": [
       "res17: Int = 97\n"
      ]
     },
     "execution_count": 22,
     "metadata": {},
     "output_type": "execute_result"
    }
   ],
   "source": [
    "// accesing tuples \n",
    "//here index starts from 1\n",
    "my_tuple._1"
   ]
  },
  {
   "cell_type": "code",
   "execution_count": 23,
   "metadata": {},
   "outputs": [
    {
     "data": {
      "text/plain": [
       "res18: (Boolean, Boolean) = (true,false)\n"
      ]
     },
     "execution_count": 23,
     "metadata": {},
     "output_type": "execute_result"
    }
   ],
   "source": [
    "my_tuple._3._3"
   ]
  }
 ],
 "metadata": {
  "kernelspec": {
   "display_name": "spylon-kernel",
   "language": "scala",
   "name": "spylon-kernel"
  },
  "language_info": {
   "codemirror_mode": "text/x-scala",
   "file_extension": ".scala",
   "help_links": [
    {
     "text": "MetaKernel Magics",
     "url": "https://github.com/calysto/metakernel/blob/master/metakernel/magics/README.md"
    }
   ],
   "mimetype": "text/x-scala",
   "name": "scala",
   "pygments_lexer": "scala",
   "version": "0.4.1"
  }
 },
 "nbformat": 4,
 "nbformat_minor": 2
}
